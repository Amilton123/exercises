{
 "cells": [
  {
   "cell_type": "code",
   "execution_count": 1,
   "metadata": {
    "collapsed": true
   },
   "outputs": [],
   "source": [
    "import agate"
   ]
  },
  {
   "cell_type": "code",
   "execution_count": 2,
   "metadata": {
    "collapsed": true
   },
   "outputs": [],
   "source": [
    "import agate\n",
    "arrests = agate.Table.from_csv('arrest.csv')"
   ]
  },
  {
   "cell_type": "code",
   "execution_count": 3,
   "metadata": {
    "collapsed": false
   },
   "outputs": [
    {
     "name": "stdout",
     "output_type": "stream",
     "text": [
      "|-----------------+---------------|\n",
      "|  column_names   | column_types  |\n",
      "|-----------------+---------------|\n",
      "|  LName          | Text          |\n",
      "|  FName          | Text          |\n",
      "|  MName          | Text          |\n",
      "|  Age            | Number        |\n",
      "|  DateArr        | Date          |\n",
      "|  Charge         | Text          |\n",
      "|  Charge Descrip | Text          |\n",
      "|  Address        | Text          |\n",
      "|-----------------+---------------|\n",
      "\n"
     ]
    }
   ],
   "source": [
    "print arrests"
   ]
  },
  {
   "cell_type": "code",
   "execution_count": 6,
   "metadata": {
    "collapsed": true
   },
   "outputs": [],
   "source": [
    "charges = arrests.group_by('Charge Descrip')\n",
    "charge_counts = charges.aggregate([('charge_total', agate.Count('Charge Descrip'))])\n",
    "charge_counts = charge_counts.order_by('charge_total', reverse=True)"
   ]
  },
  {
   "cell_type": "code",
   "execution_count": 5,
   "metadata": {
    "collapsed": false
   },
   "outputs": [
    {
     "name": "stdout",
     "output_type": "stream",
     "text": [
      "|--------------------------------------------------+---------------|\n",
      "|  Charge Descrip                                  | charge_total  |\n",
      "|--------------------------------------------------+---------------|\n",
      "|  LICENSE: DRIVE W/O                              |          397  |\n",
      "|  LIC REVOKED: DR W/O LICENSE, 1 OFF              |          385  |\n",
      "|  DRUNK IN PUBLIC OR PROFANE                      |          177  |\n",
      "|  DRUGS: POSSESS MARIJUANA, 1ST OFF               |          161  |\n",
      "|  PETIT LARCENY: <$200 NOT FROM A PERSON          |           98  |\n",
      "|  ASSAULT: ON FAMILY MEMBER                       |           96  |\n",
      "|  RECKLE/20 MPH OVER LIMIT                        |           92  |\n",
      "|  GRAND LARCENY: $200+ NOT FROM A PERSON          |           88  |\n",
      "|  DRUGS: POSSESS SCH I OR II                      |           61  |\n",
      "|  RECK DR: GENERALLY, ENDANGER LIFE/LIMB/PROPERTY |           59  |\n",
      "|  LIC REVOKED: DR W/O LICENSE, 2 OFF              |           57  |\n",
      "|  DWI: 1ST OFFENSE                                |           57  |\n",
      "|  FAILURE TO APPEAR: ON MISDEMEANOR OFFENSE       |           54  |\n",
      "|  LICENSE: DRIVE W/O, 2+ OFFENSE                  |           53  |\n",
      "|  INSUR: OPERATE UNINSURED VEH                    |           47  |\n",
      "|  ASSAULT: (MISDEMEANOR)                          |           43  |\n",
      "|  CREDIT CARD LARCENY: TAKE/OBTAIN NO.            |           42  |\n",
      "|  RECK DR: SPEEDING 20MPH+                        |           34  |\n",
      "|  DRUGS: POSSESS MARIJUANA, 2+ OFF                |           31  |\n",
      "|  TRESPASS-POSTED OR ADVISED TO LV                |           31  |\n",
      "|  ...                                             |          ...  |\n",
      "|--------------------------------------------------+---------------|\n"
     ]
    }
   ],
   "source": [
    "charge_counts.print_table(max_column_width=50)"
   ]
  },
  {
   "cell_type": "code",
   "execution_count": 9,
   "metadata": {
    "collapsed": true
   },
   "outputs": [],
   "source": [
    "arrests_with_months = arrests.compute([\n",
    "    ('arrest_month', agate.Formula(agate.Text(), lambda row: '%s' % row['DateArr'].month))\n",
    "])"
   ]
  },
  {
   "cell_type": "code",
   "execution_count": 8,
   "metadata": {
    "collapsed": true
   },
   "outputs": [],
   "source": [
    "months = arrests_with_months.group_by('arrest_month')"
   ]
  },
  {
   "cell_type": "code",
   "execution_count": 10,
   "metadata": {
    "collapsed": true
   },
   "outputs": [],
   "source": [
    "month_counts = months.aggregate([\n",
    "    ('count', agate.Count('Charge Descrip'))\n",
    "])\n",
    "month_counts = month_counts.order_by('count', reverse=True)"
   ]
  },
  {
   "cell_type": "code",
   "execution_count": 11,
   "metadata": {
    "collapsed": false
   },
   "outputs": [
    {
     "name": "stdout",
     "output_type": "stream",
     "text": [
      "|---------------+--------|\n",
      "|  arrest_month | count  |\n",
      "|---------------+--------|\n",
      "|  2            | 2,949  |\n",
      "|  1            |   164  |\n",
      "|  12           |   130  |\n",
      "|  11           |    99  |\n",
      "|  10           |    72  |\n",
      "|  9            |    60  |\n",
      "|  8            |    13  |\n",
      "|  4            |     5  |\n",
      "|  6            |     4  |\n",
      "|  5            |     2  |\n",
      "|  3            |     1  |\n",
      "|---------------+--------|\n"
     ]
    }
   ],
   "source": [
    "month_counts.print_table()"
   ]
  },
  {
   "cell_type": "code",
   "execution_count": null,
   "metadata": {
    "collapsed": true
   },
   "outputs": [],
   "source": []
  }
 ],
 "metadata": {
  "kernelspec": {
   "display_name": "Python 2",
   "language": "python",
   "name": "python2"
  },
  "language_info": {
   "codemirror_mode": {
    "name": "ipython",
    "version": 2
   },
   "file_extension": ".py",
   "mimetype": "text/x-python",
   "name": "python",
   "nbconvert_exporter": "python",
   "pygments_lexer": "ipython2",
   "version": "2.7.10"
  }
 },
 "nbformat": 4,
 "nbformat_minor": 0
}
